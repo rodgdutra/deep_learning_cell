{
 "cells": [
  {
   "cell_type": "code",
   "execution_count": 24,
   "metadata": {},
   "outputs": [],
   "source": [
    "import pandas as pd\n",
    "import matplotlib.pyplot as plt\n",
    "import numpy as np\n",
    "from sklearn.linear_model import LinearRegression"
   ]
  },
  {
   "cell_type": "code",
   "execution_count": 25,
   "metadata": {},
   "outputs": [],
   "source": [
    "def mse(y1,y2):\n",
    "    return np.mean(np.square(y1 - y2))"
   ]
  },
  {
   "cell_type": "code",
   "execution_count": 26,
   "metadata": {},
   "outputs": [
    {
     "data": {
      "text/plain": [
       "<Figure size 432x288 with 0 Axes>"
      ]
     },
     "metadata": {},
     "output_type": "display_data"
    },
    {
     "data": {
      "image/png": "[encoded data removed]",
      "text/plain": [
       "<Figure size 432x288 with 1 Axes>"
      ]
     },
     "metadata": {
      "needs_background": "light"
     },
     "output_type": "display_data"
    }
   ],
   "source": [
    "# The linear regressor imputs\n",
    "x_0 = [1,1]\n",
    "x_1 = [2,3]\n",
    "y   = [10,13]\n",
    "\n",
    "data = {\"x_0\":x_0,\"x_1\":x_1,\"y\":y}\n",
    "data_frame = pd.DataFrame(data=data)\n",
    "plt.figure()\n",
    "data_frame.plot(kind='bar')\n",
    "plt.show()"
   ]
  },
  {
   "cell_type": "code",
   "execution_count": 27,
   "metadata": {},
   "outputs": [
    {
     "name": "stdout",
     "output_type": "stream",
     "text": [
      "Intercept8.2, coeficients[0.6 1.2]\n",
      "MSE 0.0\n"
     ]
    }
   ],
   "source": [
    "# Defining the imputs of linear regressor\n",
    "X = [x_0,x_1]\n",
    "y = y\n",
    "\n",
    "linear_reg = LinearRegression()\n",
    "linear_reg.fit(X,y)\n",
    "pred = linear_reg.predict(X)\n",
    "error = mse(pred,y)\n",
    "print(\"Intercept{0}, coeficients{1}\".format(linear_reg.intercept_,linear_reg.coef_))\n",
    "print(\"MSE {0}\".format(error))"
   ]
  },
  {
   "cell_type": "code",
   "execution_count": null,
   "metadata": {},
   "outputs": [],
   "source": []
  }
 ],
 "metadata": {
  "kernelspec": {
   "display_name": "Python 3",
   "language": "python",
   "name": "python3"
  },
  "language_info": {
   "codemirror_mode": {
    "name": "ipython",
    "version": 3
   },
   "file_extension": ".py",
   "mimetype": "text/x-python",
   "name": "python",
   "nbconvert_exporter": "python",
   "pygments_lexer": "ipython3",
   "version": "3.6.8"
  }
 },
 "nbformat": 4,
 "nbformat_minor": 2
}
